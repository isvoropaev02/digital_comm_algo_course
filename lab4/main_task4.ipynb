{
 "cells": [
  {
   "cell_type": "code",
   "execution_count": 4,
   "id": "2376bd07",
   "metadata": {},
   "outputs": [],
   "source": [
    "from src.dpsk_modem import *\n",
    "from src.ofdm_modem import *\n",
    "import numpy as np\n",
    "import matplotlib.pyplot as plt\n",
    "%matplotlib widget"
   ]
  },
  {
   "cell_type": "code",
   "execution_count": 5,
   "id": "1e4b511d",
   "metadata": {},
   "outputs": [],
   "source": [
    "# settings\n",
    "np.random.seed(0)\n",
    "fs_hz = 1500\n",
    "scs_hz = 15\n",
    "num_sc = 64\n",
    "num_ofdm_symbols = 4\n",
    "bits_per_sample = 1 # [dbpsk: 1, dqpsk: 2, d8psk: 3]\n",
    "num_transmit_bits = (num_sc-1) * num_ofdm_symbols * bits_per_sample\n",
    "\n",
    "# modem block init\n",
    "dpsk_block = DPSKModem(bits_per_sample=bits_per_sample)\n",
    "ofdm_block = OFDMModem(num_sc=num_sc)\n",
    "\n",
    "# FFT settings (for spectra)\n",
    "n_fft = 4 * (num_transmit_bits // dpsk_block.bits_per_sample * int(fs_hz / scs_hz))\n",
    "freqs = np.linspace(-fs_hz/2, fs_hz/2, n_fft)"
   ]
  },
  {
   "cell_type": "code",
   "execution_count": 6,
   "id": "16ea63a4",
   "metadata": {},
   "outputs": [],
   "source": [
    "def est_papr_db(signal: np.ndarray):\n",
    "    papr = np.max(np.abs(signal)**2) / np.mean(np.abs(signal)**2)\n",
    "    return 10*np.log10(papr)"
   ]
  },
  {
   "cell_type": "code",
   "execution_count": 8,
   "id": "02442378",
   "metadata": {},
   "outputs": [
    {
     "name": "stdout",
     "output_type": "stream",
     "text": [
      "Tx bits:  1 0 1 1 1 1 0 0 1 1\n",
      "Rx bits:  1 0 1 1 1 1 0 0 1 1\n",
      "Correct:  True\n",
      "Tx signal PAPR [dB]:  7.9\n"
     ]
    }
   ],
   "source": [
    "# processing\n",
    "tx_bits = np.random.randint(low=0, high=2, size=num_transmit_bits)\n",
    "tx_signal = ofdm_block.process_tx(tx_bits, dpsk_block, num_ofdm_symbols)\n",
    "rx_bits = ofdm_block.process_rx(tx_signal, dpsk_block, num_ofdm_symbols)\n",
    "print('Tx bits: ', *tx_bits[:min(10, len(tx_bits))])\n",
    "print('Rx bits: ', *rx_bits[:min(10, len(tx_bits))])\n",
    "print(\"Correct: \", np.array_equal(rx_bits, tx_bits))\n",
    "print(\"Tx signal PAPR [dB]: \", np.round(est_papr_db(tx_signal), 1))"
   ]
  }
 ],
 "metadata": {
  "kernelspec": {
   "display_name": "Python 3",
   "language": "python",
   "name": "python3"
  },
  "language_info": {
   "codemirror_mode": {
    "name": "ipython",
    "version": 3
   },
   "file_extension": ".py",
   "mimetype": "text/x-python",
   "name": "python",
   "nbconvert_exporter": "python",
   "pygments_lexer": "ipython3",
   "version": "3.12.7"
  }
 },
 "nbformat": 4,
 "nbformat_minor": 5
}
