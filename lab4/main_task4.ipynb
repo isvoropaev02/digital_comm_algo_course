{
 "cells": [
  {
   "cell_type": "code",
   "execution_count": 1,
   "id": "2376bd07",
   "metadata": {},
   "outputs": [],
   "source": [
    "from src.dpsk_modem import *\n",
    "from src.ofdm_modem import *\n",
    "import numpy as np\n",
    "import matplotlib.pyplot as plt\n",
    "%matplotlib widget"
   ]
  },
  {
   "cell_type": "code",
   "execution_count": 2,
   "id": "1e4b511d",
   "metadata": {},
   "outputs": [],
   "source": [
    "# settings\n",
    "np.random.seed(0)\n",
    "fs_hz = 1500\n",
    "scs_hz = 15\n",
    "num_sc = 64\n",
    "num_ofdm_symbols = 2\n",
    "bits_per_sample = 2 # [dbpsk: 1, dqpsk: 2, d8psk: 3]\n",
    "num_transmit_bits = num_sc * (num_ofdm_symbols-1) * bits_per_sample\n",
    "\n",
    "# modem block init\n",
    "dpsk_block = DPSKModem(bits_per_sample=bits_per_sample)\n",
    "ofdm_block = OFDMModem(num_sc=num_sc)\n",
    "\n",
    "# FFT settings (for spectra)\n",
    "n_fft = 4 * (num_transmit_bits // dpsk_block.bits_per_sample * int(fs_hz / scs_hz))\n",
    "freqs = np.linspace(-fs_hz/2, fs_hz/2, n_fft)"
   ]
  },
  {
   "cell_type": "code",
   "execution_count": 3,
   "id": "16ea63a4",
   "metadata": {},
   "outputs": [],
   "source": [
    "def est_papr_db(signal: np.ndarray) -> float:\n",
    "    papr = np.max(np.abs(signal)**2) / np.mean(np.abs(signal)**2)\n",
    "    return 10*np.log10(papr)\n",
    "\n",
    "def est_ber(tx_bits: np.ndarray, rx_bits: np.ndarray) -> float:\n",
    "    return np.sum(np.abs(tx_bits-rx_bits)) / tx_bits.shape[0]"
   ]
  },
  {
   "cell_type": "code",
   "execution_count": 4,
   "id": "02442378",
   "metadata": {},
   "outputs": [
    {
     "name": "stdout",
     "output_type": "stream",
     "text": [
      "CP len:  12\n",
      "Tx bits:  0 1 1 0 1 1 1 1 1 1\n",
      "Rx bits:  0 1 1 0 1 1 1 1 1 1\n",
      "Correct:  True\n",
      "Tx signal PAPR [dB]:  15.4\n"
     ]
    }
   ],
   "source": [
    "# processing\n",
    "tx_bits = np.random.randint(low=0, high=2, size=num_transmit_bits)\n",
    "tx_signal = ofdm_block.process_tx(tx_bits, dpsk_block, num_ofdm_symbols)\n",
    "rx_bits = ofdm_block.process_rx(tx_signal, dpsk_block, num_ofdm_symbols)\n",
    "print('CP len: ', ofdm_block.cp_len)\n",
    "print('Tx bits: ', *tx_bits[:min(10, len(tx_bits))])\n",
    "print('Rx bits: ', *rx_bits[:min(10, len(tx_bits))])\n",
    "print(\"Correct: \", np.array_equal(rx_bits, tx_bits))\n",
    "print(\"Tx signal PAPR [dB]: \", np.round(est_papr_db(tx_signal), 1))"
   ]
  },
  {
   "cell_type": "code",
   "execution_count": 10,
   "id": "094ed48a",
   "metadata": {},
   "outputs": [
    {
     "name": "stdout",
     "output_type": "stream",
     "text": [
      "Tx bits:  0 0 0 1 0 0 0 0 0 1\n",
      "Rx bits:  0 0 0 1 0 0 0 0 0 1\n",
      "Correct:  True\n",
      "BER:  0.0\n",
      "Tx signal PAPR [dB]:  15.5\n",
      "Rx signal PAPR [dB]:  15.2\n"
     ]
    }
   ],
   "source": [
    "# with noise\n",
    "snr_db = 14\n",
    "noise_var = 10 ** (- snr_db/ 10)\n",
    "tx_bits = np.random.randint(low=0, high=2, size=num_transmit_bits)\n",
    "tx_signal = ofdm_block.process_tx(tx_bits, dpsk_block, num_ofdm_symbols)\n",
    "rx_signal = tx_signal + np.sqrt(noise_var / 2) * (np.random.randn(tx_signal.shape[0]) + 1j * np.random.randn(tx_signal.shape[0]))\n",
    "rx_bits = ofdm_block.process_rx(rx_signal, dpsk_block, num_ofdm_symbols)\n",
    "print('Tx bits: ', *tx_bits[:min(10, len(tx_bits))])\n",
    "print('Rx bits: ', *rx_bits[:min(10, len(tx_bits))])\n",
    "print(\"Correct: \", np.array_equal(rx_bits, tx_bits))\n",
    "print('BER: ', est_ber(tx_bits, rx_bits))\n",
    "print(\"Tx signal PAPR [dB]: \", np.round(est_papr_db(tx_signal), 1))\n",
    "print(\"Rx signal PAPR [dB]: \", np.round(est_papr_db(rx_signal), 1))"
   ]
  },
  {
   "cell_type": "code",
   "execution_count": 6,
   "id": "ba27bf2d",
   "metadata": {},
   "outputs": [
    {
     "name": "stdout",
     "output_type": "stream",
     "text": [
      "Tx bits:  1 0 0 0 1 0 1 0 0 0\n",
      "Rx bits:  1 0 0 0 1 0 1 0 0 0\n",
      "Correct:  True\n",
      "BER:  0.0\n",
      "Tx signal PAPR [dB]:  15.4\n",
      "Rx signal PAPR [dB]:  13.2\n"
     ]
    }
   ],
   "source": [
    "# with multipath propagation\n",
    "channel_h = np.array([1, 0, 0, 0, 0.9, 0.5])\n",
    "tx_bits = np.random.randint(low=0, high=2, size=num_transmit_bits)\n",
    "tx_signal = ofdm_block.process_tx(tx_bits, dpsk_block, num_ofdm_symbols, fs_hz=fs_hz, scs_hz=scs_hz)\n",
    "rx_signal = np.convolve(tx_signal, channel_h, 'full')\n",
    "rx_bits = ofdm_block.process_rx(rx_signal[:tx_signal.shape[0]], dpsk_block, num_ofdm_symbols, fs_hz=fs_hz, scs_hz=scs_hz)\n",
    "print('Tx bits: ', *tx_bits[:min(10, len(tx_bits))])\n",
    "print('Rx bits: ', *rx_bits[:min(10, len(tx_bits))])\n",
    "print(\"Correct: \", np.array_equal(rx_bits, tx_bits))\n",
    "print('BER: ', est_ber(tx_bits, rx_bits))\n",
    "print(\"Tx signal PAPR [dB]: \", np.round(est_papr_db(tx_signal), 1))\n",
    "print(\"Rx signal PAPR [dB]: \", np.round(est_papr_db(rx_signal), 1))"
   ]
  }
 ],
 "metadata": {
  "kernelspec": {
   "display_name": "Python 3",
   "language": "python",
   "name": "python3"
  },
  "language_info": {
   "codemirror_mode": {
    "name": "ipython",
    "version": 3
   },
   "file_extension": ".py",
   "mimetype": "text/x-python",
   "name": "python",
   "nbconvert_exporter": "python",
   "pygments_lexer": "ipython3",
   "version": "3.12.7"
  }
 },
 "nbformat": 4,
 "nbformat_minor": 5
}
